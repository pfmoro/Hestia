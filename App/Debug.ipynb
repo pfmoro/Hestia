{
 "cells": [
  {
   "cell_type": "code",
   "execution_count": 6,
   "id": "58bfbe8c",
   "metadata": {},
   "outputs": [],
   "source": [
    "from dotenv import load_dotenv\n",
    "import os"
   ]
  },
  {
   "cell_type": "code",
   "execution_count": 21,
   "id": "1452f6ab",
   "metadata": {},
   "outputs": [
    {
     "data": {
      "text/plain": [
       "True"
      ]
     },
     "execution_count": 21,
     "metadata": {},
     "output_type": "execute_result"
    }
   ],
   "source": [
    "# Carrega as variáveis do arquivo .env\n",
    "load_dotenv()\n"
   ]
  },
  {
   "cell_type": "code",
   "execution_count": 22,
   "id": "c18b18ed",
   "metadata": {},
   "outputs": [
    {
     "name": "stdout",
     "output_type": "stream",
     "text": [
      "300\n"
     ]
    }
   ],
   "source": [
    "print(os.getenv(\"TEMPO_ESPERA_SEGUNDOS\"))"
   ]
  },
  {
   "cell_type": "code",
   "execution_count": 23,
   "id": "2b4a9941",
   "metadata": {},
   "outputs": [
    {
     "name": "stdout",
     "output_type": "stream",
     "text": [
      "02-31-92-0d-bf-58\n"
     ]
    }
   ],
   "source": [
    "print(os.getenv(\"MAC_NODEMCU_1\"))"
   ]
  },
  {
   "cell_type": "code",
   "execution_count": 24,
   "id": "03bd684a",
   "metadata": {},
   "outputs": [
    {
     "name": "stdout",
     "output_type": "stream",
     "text": [
      "EZ37TSYU6DZIEQ60\n"
     ]
    }
   ],
   "source": [
    "print(os.getenv(\"THINGSPEAK_API_KEY\"))"
   ]
  },
  {
   "cell_type": "code",
   "execution_count": 8,
   "id": "61921c57",
   "metadata": {},
   "outputs": [
    {
     "ename": "TypeError",
     "evalue": "int() argument must be a string, a bytes-like object or a real number, not 'NoneType'",
     "output_type": "error",
     "traceback": [
      "\u001b[31m---------------------------------------------------------------------------\u001b[39m",
      "\u001b[31mTypeError\u001b[39m                                 Traceback (most recent call last)",
      "\u001b[36mCell\u001b[39m\u001b[36m \u001b[39m\u001b[32mIn[8]\u001b[39m\u001b[32m, line 2\u001b[39m\n\u001b[32m      1\u001b[39m \u001b[38;5;66;03m# --- Parâmetros de Configuração ---\u001b[39;00m\n\u001b[32m----> \u001b[39m\u001b[32m2\u001b[39m TEMPO_ESPERA_SEGUNDOS = \u001b[38;5;28;43mint\u001b[39;49m\u001b[43m(\u001b[49m\u001b[43mos\u001b[49m\u001b[43m.\u001b[49m\u001b[43mgetenv\u001b[49m\u001b[43m(\u001b[49m\u001b[33;43m\"\u001b[39;49m\u001b[33;43mTEMPO_ESPERA_SEGUNDOS\u001b[39;49m\u001b[33;43m\"\u001b[39;49m\u001b[43m)\u001b[49m\u001b[43m)\u001b[49m\n\u001b[32m      3\u001b[39m MAC_NODEMCU_1 = os.getenv(\u001b[33m\"\u001b[39m\u001b[33mMAC_NODEMCU_1\u001b[39m\u001b[33m\"\u001b[39m)\n\u001b[32m      4\u001b[39m IP_NODEMCU_2_AP = os.getenv(\u001b[33m\"\u001b[39m\u001b[33mIP_NODEMCU_2\u001b[39m\u001b[33m\"\u001b[39m) \u001b[38;5;66;03m# IP fixo para o modo bateria\u001b[39;00m\n",
      "\u001b[31mTypeError\u001b[39m: int() argument must be a string, a bytes-like object or a real number, not 'NoneType'"
     ]
    }
   ],
   "source": [
    "\n",
    "\n",
    "# --- Parâmetros de Configuração ---\n",
    "TEMPO_ESPERA_SEGUNDOS = int(os.getenv(\"TEMPO_ESPERA_SEGUNDOS\"))\n",
    "MAC_NODEMCU_1 = os.getenv(\"MAC_NODEMCU_1\")\n",
    "IP_NODEMCU_2_AP = os.getenv(\"IP_NODEMCU_2\") # IP fixo para o modo bateria\n",
    "EXPECTED_SCHEMA_NODE_1 = os.getenv(\"EXPECTED_SCHEMA_NODE_1\").split(',')\n",
    "LOCAL_SAVE_PATH = os.getenv(\"LOCAL_SAVE_PATH\")\n",
    "EXECUTION_ENVIRONMENT = os.getenv(\"EXECUTION_ENVIRONMENT\")\n",
    "NODEMCU2_POWER_MODE = os.getenv(\"NODEMCU2_POWER_MODE\")\n",
    "\n",
    "\n",
    "# Configurações para o modo tomada\n",
    "MAC_NODEMCU_2_CLIENT = os.getenv(\"MAC_NODEMCU_2\")\n",
    "EXPECTED_SCHEMA_NODE_2_CLIENT = os.getenv(\"EXPECTED_SCHEMA_NODE_2\").split(',')\n"
   ]
  }
 ],
 "metadata": {
  "kernelspec": {
   "display_name": "Python 3",
   "language": "python",
   "name": "python3"
  },
  "language_info": {
   "codemirror_mode": {
    "name": "ipython",
    "version": 3
   },
   "file_extension": ".py",
   "mimetype": "text/x-python",
   "name": "python",
   "nbconvert_exporter": "python",
   "pygments_lexer": "ipython3",
   "version": "3.11.9"
  }
 },
 "nbformat": 4,
 "nbformat_minor": 5
}
